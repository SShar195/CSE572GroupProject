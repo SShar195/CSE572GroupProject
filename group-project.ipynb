{
 "cells": [
  {
   "cell_type": "markdown",
   "id": "84c01c39",
   "metadata": {},
   "source": [
    "Split data into a training and testing dataset\n",
    "Due to the fact that the data is both already sorted by user and time, we will need to 'unsort' to gain a proper random sampling \n",
    "\n",
    "Steps \n",
    "    1) 'Unsort' and 'shuffle' data\n",
    "    2) develop 2 files that are accurate random samplings of data \n",
    "    3) ensure files are random samplings of data"
   ]
  },
  {
   "cell_type": "markdown",
   "id": "514928bc",
   "metadata": {},
   "source": [
    "Test if there are outliers or noise in the data \n",
    "\n",
    "Binning and standardizing"
   ]
  },
  {
   "cell_type": "markdown",
   "id": "8e3d5b80",
   "metadata": {},
   "source": [
    "Display data in graphs \n",
    "\n",
    "?????????"
   ]
  },
  {
   "cell_type": "markdown",
   "id": "6a9b4475",
   "metadata": {},
   "source": [
    "Titantic it "
   ]
  }
 ],
 "metadata": {
  "language_info": {
   "name": "python"
  }
 },
 "nbformat": 4,
 "nbformat_minor": 5
}
