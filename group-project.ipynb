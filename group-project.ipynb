{
 "cells": [
  {
   "cell_type": "code",
   "execution_count": 14,
   "id": "fa18b245",
   "metadata": {},
   "outputs": [
    {
     "name": "stdout",
     "output_type": "stream",
     "text": [
      "Requirement already satisfied: seaborn in c:\\users\\nicholas\\onedrive - arizona state university\\documents\\github\\cse572groupproject\\.venv\\lib\\site-packages (0.13.2)\n",
      "Requirement already satisfied: numpy!=1.24.0,>=1.20 in c:\\users\\nicholas\\onedrive - arizona state university\\documents\\github\\cse572groupproject\\.venv\\lib\\site-packages (from seaborn) (2.3.3)\n",
      "Requirement already satisfied: pandas>=1.2 in c:\\users\\nicholas\\onedrive - arizona state university\\documents\\github\\cse572groupproject\\.venv\\lib\\site-packages (from seaborn) (2.3.2)\n",
      "Requirement already satisfied: matplotlib!=3.6.1,>=3.4 in c:\\users\\nicholas\\onedrive - arizona state university\\documents\\github\\cse572groupproject\\.venv\\lib\\site-packages (from seaborn) (3.10.6)\n",
      "Requirement already satisfied: contourpy>=1.0.1 in c:\\users\\nicholas\\onedrive - arizona state university\\documents\\github\\cse572groupproject\\.venv\\lib\\site-packages (from matplotlib!=3.6.1,>=3.4->seaborn) (1.3.3)\n",
      "Requirement already satisfied: cycler>=0.10 in c:\\users\\nicholas\\onedrive - arizona state university\\documents\\github\\cse572groupproject\\.venv\\lib\\site-packages (from matplotlib!=3.6.1,>=3.4->seaborn) (0.12.1)\n",
      "Requirement already satisfied: fonttools>=4.22.0 in c:\\users\\nicholas\\onedrive - arizona state university\\documents\\github\\cse572groupproject\\.venv\\lib\\site-packages (from matplotlib!=3.6.1,>=3.4->seaborn) (4.60.0)\n",
      "Requirement already satisfied: kiwisolver>=1.3.1 in c:\\users\\nicholas\\onedrive - arizona state university\\documents\\github\\cse572groupproject\\.venv\\lib\\site-packages (from matplotlib!=3.6.1,>=3.4->seaborn) (1.4.9)\n",
      "Requirement already satisfied: packaging>=20.0 in c:\\users\\nicholas\\onedrive - arizona state university\\documents\\github\\cse572groupproject\\.venv\\lib\\site-packages (from matplotlib!=3.6.1,>=3.4->seaborn) (25.0)\n",
      "Requirement already satisfied: pillow>=8 in c:\\users\\nicholas\\onedrive - arizona state university\\documents\\github\\cse572groupproject\\.venv\\lib\\site-packages (from matplotlib!=3.6.1,>=3.4->seaborn) (11.3.0)\n",
      "Requirement already satisfied: pyparsing>=2.3.1 in c:\\users\\nicholas\\onedrive - arizona state university\\documents\\github\\cse572groupproject\\.venv\\lib\\site-packages (from matplotlib!=3.6.1,>=3.4->seaborn) (3.2.5)\n",
      "Requirement already satisfied: python-dateutil>=2.7 in c:\\users\\nicholas\\onedrive - arizona state university\\documents\\github\\cse572groupproject\\.venv\\lib\\site-packages (from matplotlib!=3.6.1,>=3.4->seaborn) (2.9.0.post0)\n",
      "Requirement already satisfied: pytz>=2020.1 in c:\\users\\nicholas\\onedrive - arizona state university\\documents\\github\\cse572groupproject\\.venv\\lib\\site-packages (from pandas>=1.2->seaborn) (2025.2)\n",
      "Requirement already satisfied: tzdata>=2022.7 in c:\\users\\nicholas\\onedrive - arizona state university\\documents\\github\\cse572groupproject\\.venv\\lib\\site-packages (from pandas>=1.2->seaborn) (2025.2)\n",
      "Requirement already satisfied: six>=1.5 in c:\\users\\nicholas\\onedrive - arizona state university\\documents\\github\\cse572groupproject\\.venv\\lib\\site-packages (from python-dateutil>=2.7->matplotlib!=3.6.1,>=3.4->seaborn) (1.17.0)\n",
      "Note: you may need to restart the kernel to use updated packages.\n"
     ]
    }
   ],
   "source": [
    "%pip install seaborn\n",
    "# data analysis and wrangling\n",
    "import pandas as pd\n",
    "import numpy as np\n",
    "import random as rnd\n",
    "\n",
    "# visualization\n",
    "import seaborn as sns\n",
    "import matplotlib.pyplot as plt\n",
    "%matplotlib inline\n",
    "\n",
    "# machine learning\n",
    "from sklearn.model_selection import train_test_split\n",
    "from sklearn.linear_model import LogisticRegression\n",
    "from sklearn.svm import SVC, LinearSVC\n",
    "from sklearn.ensemble import RandomForestClassifier\n",
    "from sklearn.neighbors import KNeighborsClassifier\n",
    "from sklearn.naive_bayes import GaussianNB\n",
    "from sklearn.linear_model import Perceptron\n",
    "from sklearn.linear_model import SGDClassifier\n",
    "from sklearn.tree import DecisionTreeClassifier"
   ]
  },
  {
   "cell_type": "markdown",
   "id": "84c01c39",
   "metadata": {},
   "source": [
    "Split data into a training and testing dataset\n",
    "Due to the fact that the data is both already sorted by user and time, we will need to 'unsort' to gain a proper random sampling \n",
    "\n",
    "Steps \n",
    "    1) 'Unsort' and 'shuffle' data\n",
    "    2) develop 2 files that are accurate random samplings of data \n",
    "    3) ensure files are random samplings of data"
   ]
  },
  {
   "cell_type": "code",
   "execution_count": 4,
   "id": "954b6dc8",
   "metadata": {},
   "outputs": [],
   "source": [
    "dataset = pd.read_csv(\"./geophone/geophone-sensor-data.csv\")\n",
    "\n",
    "dataset_sorted = dataset.sort_values(by=[\"name\", \"timestamp\"], ascending=[True, True])"
   ]
  },
  {
   "cell_type": "code",
   "execution_count": 30,
   "id": "9b07b72f",
   "metadata": {},
   "outputs": [
    {
     "data": {
      "text/plain": [
       "Text(0.5, 0.98, 'Distribution of Mean')"
      ]
     },
     "execution_count": 30,
     "metadata": {},
     "output_type": "execute_result"
    },
    {
     "data": {
      "image/png": "[encoded data removed]",
      "text/plain": [
       "<Figure size 300x300 with 1 Axes>"
      ]
     },
     "metadata": {},
     "output_type": "display_data"
    }
   ],
   "source": [
    "og = sns.FacetGrid(dataset_sorted)\n",
    "og.map(plt.hist, 'mean', bins=20)\n",
    "\n",
    "og.set_axis_labels(\"Mean\", \"Frequency\")\n",
    "og.set_titles(col_template=\"{col_name}\")\n",
    "plt.subplots_adjust(top=0.9)\n",
    "og.figure.suptitle(\"Distribution of Mean\")"
   ]
  },
  {
   "cell_type": "code",
   "execution_count": null,
   "id": "b6df451d",
   "metadata": {},
   "outputs": [
    {
     "name": "stdout",
     "output_type": "stream",
     "text": [
      "     timestamp         mean   top_3_mean   min   max   std_dev  median  \\\n",
      "1710  21:12:44  2037.283333  2041.000000  2033  2041  1.858419  2038.0   \n",
      "874   02:42:25  2039.936000  2071.333333  2007  2075  5.534851  2040.0   \n",
      "1252  03:46:51  2042.155333  2048.000000  2037  2048  2.716715  2042.0   \n",
      "1345  02:47:35  2041.374000  2047.000000  2035  2047  3.268964  2043.0   \n",
      "873   02:42:22  2039.518667  2055.000000  2018  2055  3.941445  2041.0   \n",
      "\n",
      "          q1      q3  skewness  dominant_freq        energy activity    name  \n",
      "1710  2036.0  2039.0 -0.423633          600.0  1.930823e+09  waiting    Emir  \n",
      "874   2035.0  2045.0 -0.127944          600.0  1.947087e+09  running  Furkan  \n",
      "1252  2040.0  2045.0  0.110133          300.0  1.960641e+09  waiting   Yusuf  \n",
      "1345  2039.0  2044.0 -0.585361          300.0  1.955860e+09  waiting    Enes  \n",
      "873   2035.0  2042.0 -0.438889          300.0  1.944511e+09  running  Furkan  \n",
      "________________________________________\n",
      "     timestamp         mean   top_3_mean   min   max    std_dev  median  \\\n",
      "1231  02:57:07  2038.862667  2048.000000  2030  2048   4.419782  2039.0   \n",
      "773   03:19:50  2041.892667  2054.333333  2035  2056   3.197470  2042.0   \n",
      "749   02:36:14  2040.428000  2050.000000  2030  2051   4.553477  2041.0   \n",
      "1002  21:36:01  2045.946000  2111.666667  1967  2115  30.930445  2053.0   \n",
      "1461  03:02:13  2039.794667  2048.000000  2032  2048   4.182723  2040.0   \n",
      "\n",
      "          q1       q3  skewness  dominant_freq        energy activity    name  \n",
      "1231  2036.0  2042.25 -0.227137          600.0  1.940503e+09  waiting   Yusuf  \n",
      "773   2039.0  2045.00 -0.113857          300.0  1.959037e+09  running    Enes  \n",
      "749   2036.0  2045.00  0.014690          300.0  1.950083e+09  running    Enes  \n",
      "1002  2029.0  2065.00 -0.747413          300.0  1.985310e+09  running  Alihan  \n",
      "1461  2036.0  2043.00 -0.142717          300.0  1.946202e+09  waiting  Furkan  \n"
     ]
    }
   ],
   "source": [
    "train, test = train_test_split(dataset_sorted, test_size=0.5, random_state=42, shuffle=True)\n",
    "print(train.head())\n",
    "print('_'*40)\n",
    "print(test.head())"
   ]
  },
  {
   "cell_type": "code",
   "execution_count": 32,
   "id": "1d91ae98",
   "metadata": {},
   "outputs": [
    {
     "data": {
      "text/plain": [
       "Text(0.5, 0.98, 'Distribution of Training Mean')"
      ]
     },
     "execution_count": 32,
     "metadata": {},
     "output_type": "execute_result"
    },
    {
     "data": {
      "image/png": "[encoded data removed]",
      "text/plain": [
       "<Figure size 300x300 with 1 Axes>"
      ]
     },
     "metadata": {},
     "output_type": "display_data"
    }
   ],
   "source": [
    "train_g = sns.FacetGrid(train)\n",
    "train_g.map(plt.hist, 'mean', bins=20)\n",
    "train_g.set_axis_labels(\"Mean\", \"Frequency\")\n",
    "train_g.set_titles(col_template=\"{col_name}\")\n",
    "plt.subplots_adjust(top=0.9)\n",
    "train_g.figure.suptitle(\"Distribution of Training Mean\")"
   ]
  },
  {
   "cell_type": "code",
   "execution_count": 34,
   "id": "5394d356",
   "metadata": {},
   "outputs": [
    {
     "data": {
      "text/plain": [
       "Text(0.5, 0.98, 'Distribution of Test Mean')"
      ]
     },
     "execution_count": 34,
     "metadata": {},
     "output_type": "execute_result"
    },
    {
     "data": {
      "image/png": "[encoded data removed]",
      "text/plain": [
       "<Figure size 300x300 with 1 Axes>"
      ]
     },
     "metadata": {},
     "output_type": "display_data"
    }
   ],
   "source": [
    "test_g = sns.FacetGrid(test)\n",
    "test_g.map(plt.hist, 'mean', bins=20)\n",
    "\n",
    "test_g.set_axis_labels(\"Mean\", \"Frequency\")\n",
    "test_g.set_titles(col_template=\"{col_name}\")\n",
    "plt.subplots_adjust(top=0.9)\n",
    "test_g.figure.suptitle(\"Distribution of Test Mean\")"
   ]
  },
  {
   "cell_type": "markdown",
   "id": "514928bc",
   "metadata": {},
   "source": [
    "Test if there are outliers or noise in the data \n",
    "\n",
    "Binning and standardizing"
   ]
  },
  {
   "cell_type": "markdown",
   "id": "8e3d5b80",
   "metadata": {},
   "source": [
    "Display data in graphs \n",
    "\n",
    "?????????"
   ]
  },
  {
   "cell_type": "markdown",
   "id": "6a9b4475",
   "metadata": {},
   "source": [
    "Titantic it "
   ]
  }
 ],
 "metadata": {
  "kernelspec": {
   "display_name": ".venv",
   "language": "python",
   "name": "python3"
  },
  "language_info": {
   "codemirror_mode": {
    "name": "ipython",
    "version": 3
   },
   "file_extension": ".py",
   "mimetype": "text/x-python",
   "name": "python",
   "nbconvert_exporter": "python",
   "pygments_lexer": "ipython3",
   "version": "3.12.5"
  }
 },
 "nbformat": 4,
 "nbformat_minor": 5
}
