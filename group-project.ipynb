{
 "cells": [
  {
   "cell_type": "code",
   "execution_count": 2,
   "id": "fa18b245",
   "metadata": {},
   "outputs": [
    {
     "name": "stdout",
     "output_type": "stream",
     "text": [
      "Requirement already satisfied: seaborn in c:\\users\\nicholas\\onedrive - arizona state university\\documents\\github\\cse572groupproject\\.venv\\lib\\site-packages (0.13.2)\n",
      "Requirement already satisfied: numpy!=1.24.0,>=1.20 in c:\\users\\nicholas\\onedrive - arizona state university\\documents\\github\\cse572groupproject\\.venv\\lib\\site-packages (from seaborn) (2.3.3)\n",
      "Requirement already satisfied: pandas>=1.2 in c:\\users\\nicholas\\onedrive - arizona state university\\documents\\github\\cse572groupproject\\.venv\\lib\\site-packages (from seaborn) (2.3.2)\n",
      "Requirement already satisfied: matplotlib!=3.6.1,>=3.4 in c:\\users\\nicholas\\onedrive - arizona state university\\documents\\github\\cse572groupproject\\.venv\\lib\\site-packages (from seaborn) (3.10.6)\n",
      "Requirement already satisfied: contourpy>=1.0.1 in c:\\users\\nicholas\\onedrive - arizona state university\\documents\\github\\cse572groupproject\\.venv\\lib\\site-packages (from matplotlib!=3.6.1,>=3.4->seaborn) (1.3.3)\n",
      "Requirement already satisfied: cycler>=0.10 in c:\\users\\nicholas\\onedrive - arizona state university\\documents\\github\\cse572groupproject\\.venv\\lib\\site-packages (from matplotlib!=3.6.1,>=3.4->seaborn) (0.12.1)\n",
      "Requirement already satisfied: fonttools>=4.22.0 in c:\\users\\nicholas\\onedrive - arizona state university\\documents\\github\\cse572groupproject\\.venv\\lib\\site-packages (from matplotlib!=3.6.1,>=3.4->seaborn) (4.60.0)\n",
      "Requirement already satisfied: kiwisolver>=1.3.1 in c:\\users\\nicholas\\onedrive - arizona state university\\documents\\github\\cse572groupproject\\.venv\\lib\\site-packages (from matplotlib!=3.6.1,>=3.4->seaborn) (1.4.9)\n",
      "Requirement already satisfied: packaging>=20.0 in c:\\users\\nicholas\\onedrive - arizona state university\\documents\\github\\cse572groupproject\\.venv\\lib\\site-packages (from matplotlib!=3.6.1,>=3.4->seaborn) (25.0)\n",
      "Requirement already satisfied: pillow>=8 in c:\\users\\nicholas\\onedrive - arizona state university\\documents\\github\\cse572groupproject\\.venv\\lib\\site-packages (from matplotlib!=3.6.1,>=3.4->seaborn) (11.3.0)\n",
      "Requirement already satisfied: pyparsing>=2.3.1 in c:\\users\\nicholas\\onedrive - arizona state university\\documents\\github\\cse572groupproject\\.venv\\lib\\site-packages (from matplotlib!=3.6.1,>=3.4->seaborn) (3.2.5)\n",
      "Requirement already satisfied: python-dateutil>=2.7 in c:\\users\\nicholas\\onedrive - arizona state university\\documents\\github\\cse572groupproject\\.venv\\lib\\site-packages (from matplotlib!=3.6.1,>=3.4->seaborn) (2.9.0.post0)\n",
      "Requirement already satisfied: pytz>=2020.1 in c:\\users\\nicholas\\onedrive - arizona state university\\documents\\github\\cse572groupproject\\.venv\\lib\\site-packages (from pandas>=1.2->seaborn) (2025.2)\n",
      "Requirement already satisfied: tzdata>=2022.7 in c:\\users\\nicholas\\onedrive - arizona state university\\documents\\github\\cse572groupproject\\.venv\\lib\\site-packages (from pandas>=1.2->seaborn) (2025.2)\n",
      "Requirement already satisfied: six>=1.5 in c:\\users\\nicholas\\onedrive - arizona state university\\documents\\github\\cse572groupproject\\.venv\\lib\\site-packages (from python-dateutil>=2.7->matplotlib!=3.6.1,>=3.4->seaborn) (1.17.0)\n",
      "Note: you may need to restart the kernel to use updated packages.\n"
     ]
    }
   ],
   "source": [
    "%pip install seaborn\n",
    "# data analysis and wrangling\n",
    "import pandas as pd\n",
    "import numpy as np\n",
    "import random as rnd\n",
    "\n",
    "# visualization\n",
    "import seaborn as sns\n",
    "import matplotlib.pyplot as plt\n",
    "%matplotlib inline\n",
    "\n",
    "# machine learning\n",
    "from sklearn.linear_model import LogisticRegression\n",
    "from sklearn.svm import SVC, LinearSVC\n",
    "from sklearn.ensemble import RandomForestClassifier\n",
    "from sklearn.neighbors import KNeighborsClassifier\n",
    "from sklearn.naive_bayes import GaussianNB\n",
    "from sklearn.linear_model import Perceptron\n",
    "from sklearn.linear_model import SGDClassifier\n",
    "from sklearn.tree import DecisionTreeClassifier"
   ]
  },
  {
   "cell_type": "markdown",
   "id": "84c01c39",
   "metadata": {},
   "source": [
    "Split data into a training and testing dataset\n",
    "Due to the fact that the data is both already sorted by user and time, we will need to 'unsort' to gain a proper random sampling \n",
    "\n",
    "Steps \n",
    "    1) 'Unsort' and 'shuffle' data\n",
    "    2) develop 2 files that are accurate random samplings of data \n",
    "    3) ensure files are random samplings of data"
   ]
  },
  {
   "cell_type": "code",
   "execution_count": 4,
   "id": "954b6dc8",
   "metadata": {},
   "outputs": [],
   "source": [
    "dataset = pd.read_csv(\"./geophone/geophone-sensor-data.csv\")\n",
    "\n",
    "dataset_sorted = dataset.sort_values(by=[\"name\", \"timestamp\"], ascending=[True, True])"
   ]
  },
  {
   "cell_type": "code",
   "execution_count": null,
   "id": "d3cab296",
   "metadata": {},
   "outputs": [],
   "source": [
    "import numpy as np\n",
    "\n",
    "# Assuming your data is in a pandas DataFrame called df\n",
    "df_shuffled = df.sample(frac=1, random_state=42).reset_index(drop=True)"
   ]
  },
  {
   "cell_type": "markdown",
   "id": "514928bc",
   "metadata": {},
   "source": [
    "Test if there are outliers or noise in the data \n",
    "\n",
    "Binning and standardizing"
   ]
  },
  {
   "cell_type": "markdown",
   "id": "8e3d5b80",
   "metadata": {},
   "source": [
    "Display data in graphs \n",
    "\n",
    "?????????"
   ]
  },
  {
   "cell_type": "markdown",
   "id": "6a9b4475",
   "metadata": {},
   "source": [
    "Titantic it "
   ]
  }
 ],
 "metadata": {
  "kernelspec": {
   "display_name": ".venv",
   "language": "python",
   "name": "python3"
  },
  "language_info": {
   "codemirror_mode": {
    "name": "ipython",
    "version": 3
   },
   "file_extension": ".py",
   "mimetype": "text/x-python",
   "name": "python",
   "nbconvert_exporter": "python",
   "pygments_lexer": "ipython3",
   "version": "3.12.5"
  }
 },
 "nbformat": 4,
 "nbformat_minor": 5
}
