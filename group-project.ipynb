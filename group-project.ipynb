{
 "cells": [
  {
   "cell_type": "code",
   "execution_count": null,
   "id": "fa18b245",
   "metadata": {},
   "outputs": [
    {
     "ename": "",
     "evalue": "",
     "output_type": "error",
     "traceback": [
      "\u001b[1;31mRunning cells with 'Python 3.10.16' requires the ipykernel package.\n",
      "\u001b[1;31m<a href='command:jupyter.createPythonEnvAndSelectController'>Create a Python Environment</a> with the required packages.\n",
      "\u001b[1;31mOr install 'ipykernel' using the command: '/usr/bin/python3.10 -m pip install ipykernel -U --user --force-reinstall'"
     ]
    }
   ],
   "source": [
    "%pip install seaborn\n",
    "# data analysis and wrangling\n",
    "import pandas as pd\n",
    "import numpy as np\n",
    "import random as rnd\n",
    "\n",
    "# visualization\n",
    "import seaborn as sns\n",
    "import matplotlib.pyplot as plt\n",
    "%matplotlib inline\n",
    "\n",
    "# machine learning\n",
    "from sklearn.linear_model import LogisticRegression\n",
    "from sklearn.svm import SVC, LinearSVC\n",
    "from sklearn.ensemble import RandomForestClassifier\n",
    "from sklearn.neighbors import KNeighborsClassifier\n",
    "from sklearn.naive_bayes import GaussianNB\n",
    "from sklearn.linear_model import Perceptron\n",
    "from sklearn.linear_model import SGDClassifier\n",
    "from sklearn.tree import DecisionTreeClassifier"
   ]
  },
  {
   "cell_type": "markdown",
   "id": "84c01c39",
   "metadata": {},
   "source": [
    "Split data into a training and testing dataset\n",
    "Due to the fact that the data is both already sorted by user and time, we will need to 'unsort' to gain a proper random sampling \n",
    "\n",
    "Steps \n",
    "    1) 'Unsort' and 'shuffle' data\n",
    "    2) develop 2 files that are accurate random samplings of data \n",
    "    3) ensure files are random samplings of data"
   ]
  },
  {
   "cell_type": "code",
   "execution_count": null,
   "id": "d3cab296",
   "metadata": {},
   "outputs": [],
   "source": [
    "import numpy as np\n",
    "\n",
    "# Assuming your data is in a pandas DataFrame called df\n",
    "df_shuffled = df.sample(frac=1, random_state=42).reset_index(drop=True)"
   ]
  },
  {
   "cell_type": "markdown",
   "id": "514928bc",
   "metadata": {},
   "source": [
    "Test if there are outliers or noise in the data \n",
    "\n",
    "Binning and standardizing"
   ]
  },
  {
   "cell_type": "markdown",
   "id": "8e3d5b80",
   "metadata": {},
   "source": [
    "Display data in graphs \n",
    "\n",
    "?????????"
   ]
  },
  {
   "cell_type": "markdown",
   "id": "6a9b4475",
   "metadata": {},
   "source": [
    "Titantic it "
   ]
  }
 ],
 "metadata": {
  "kernelspec": {
   "display_name": "Python 3",
   "language": "python",
   "name": "python3"
  },
  "language_info": {
   "name": "python",
   "version": "3.10.16"
  }
 },
 "nbformat": 4,
 "nbformat_minor": 5
}
